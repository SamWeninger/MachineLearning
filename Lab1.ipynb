{
  "nbformat": 4,
  "nbformat_minor": 0,
  "metadata": {
    "colab": {
      "name": "Lab1.ipynb",
      "provenance": []
    },
    "kernelspec": {
      "name": "python3",
      "display_name": "Python 3"
    },
    "language_info": {
      "name": "python"
    }
  },
  "cells": [
    {
      "cell_type": "code",
      "metadata": {
        "colab": {
          "base_uri": "https://localhost:8080/"
        },
        "id": "y2N4_sjaZzCv",
        "outputId": "7d4e8df9-8936-441d-d80b-e65cf969377d"
      },
      "source": [
        "from google.colab import drive\n",
        "drive.mount('/content/gdrive')"
      ],
      "execution_count": 22,
      "outputs": [
        {
          "output_type": "stream",
          "name": "stdout",
          "text": [
            "Mounted at /content/gdrive\n"
          ]
        }
      ]
    },
    {
      "cell_type": "markdown",
      "metadata": {
        "id": "HyAuU3iz8JUy"
      },
      "source": [
        "# Problem 1 - Clustering with κ-means"
      ]
    },
    {
      "cell_type": "markdown",
      "metadata": {
        "id": "N_u2s30c8UPo"
      },
      "source": [
        "### 1. "
      ]
    },
    {
      "cell_type": "code",
      "metadata": {
        "id": "chr6FI9xawTg"
      },
      "source": [
        "import numpy as np\n",
        "from sklearn import datasets\n",
        "\n",
        "datasets = datasets.load_breast_cancer()\n",
        "# \"data{ndarray, dataframe} of shape (569, 30) --> (samples, dimensionality)\"\n",
        "\n",
        "p1_dataset = datasets['data'] # dataset\n",
        "\n",
        "def k_means(dataset, k):\n",
        "  n = len(dataset)\n",
        "\n",
        "  # data structures for centroid calculation\n",
        "  centroids, prev_centroids, centroid_groups = [], [], {}\n",
        "\n",
        "  # Picking initial centroids, (second approach)\n",
        "  for i in range(k):\n",
        "    centroids.append(dataset[i])\n",
        "    centroid_groups[i] = []\n",
        "\n",
        "  # data structures for \n",
        "  cluster_assignments = n*[None]\n",
        "  cluster_idx_assignments = n*[None]\n",
        "\n",
        "  iterations = 0\n",
        "\n",
        "  # iterate through k means\n",
        "  while not np.array_equal(centroids, prev_centroids):\n",
        "    iterations+=1\n",
        "\n",
        "    cluster_assignments = n*[None]\n",
        "    cluster_idx_assignments = n*[None]\n",
        "\n",
        "    # find clusters/centroids for each datapoint\n",
        "    for i in range(n):\n",
        "      centroid_idx = -1\n",
        "      for c in range(k):\n",
        "        if cluster_assignments[i] is None:\n",
        "          cluster_assignments[i] = centroids[c]\n",
        "          cluster_idx_assignments[i] = c\n",
        "          centroid_idx = c\n",
        "        elif not np.array_equal(centroids[c], cluster_assignments[i]) and np.linalg.norm(dataset[i]-centroids[c]) < np.linalg.norm(dataset[i]-cluster_assignments[i]):\n",
        "          cluster_assignments[i] = centroids[c]\n",
        "          cluster_idx_assignments[i] = c\n",
        "          centroid_idx = c\n",
        "      centroid_groups[centroid_idx].append(dataset[i])\n",
        "    \n",
        "    # recalculate centroids\n",
        "    prev_centroids = centroids[:]\n",
        "    for i in range(k):\n",
        "      centroids[i] = sum(centroid_groups[i])/len(centroid_groups[i])\n",
        "      centroid_groups[i].clear()\n",
        "    \n",
        "  # calculate the distortion\n",
        "  distortion = 0.0\n",
        "  for i in range(n):\n",
        "    distortion += np.linalg.norm(dataset[i]-centroids[cluster_idx_assignments[i]])**2\n",
        "\n",
        "  # return 4 args: \n",
        "  #   [] centroids\n",
        "  #   [] cluster_assignments (cluster_assignments[i] -> the cluster centroid for dataset[i])\n",
        "  #   [] cluster_idx_assignments (cluster_idx_assignments[i] -> index of cluster centroid for dataset[i])\n",
        "  #   distortion (averaging by returning 'distortion/n')\n",
        "  return centroids, cluster_assignments, cluster_idx_assignments, distortion/n "
      ],
      "execution_count": 23,
      "outputs": []
    },
    {
      "cell_type": "markdown",
      "metadata": {
        "id": "cy5LAKiI8fws"
      },
      "source": [
        "### 2. "
      ]
    },
    {
      "cell_type": "code",
      "metadata": {
        "id": "EvnQKrxp4JOY"
      },
      "source": [
        "k_start, k_end = 2, 7\n",
        "for k in range(k_start, k_end+1):\n",
        "  k_means(p1_dataset, k)"
      ],
      "execution_count": 24,
      "outputs": []
    },
    {
      "cell_type": "markdown",
      "metadata": {
        "id": "aLdgVal96mql"
      },
      "source": [
        "The required inputs for implementing k-means algorithm on a dataset is **(1)** \"k\", or the number of clusters to group datapoints into, and **(2)** the dataset itself. These were the only two arguments I have given to my `k_means(dataset, k)` function; the function uses a passed-in dataset to create \"k\" distinct groupings of datapoints."
      ]
    },
    {
      "cell_type": "markdown",
      "metadata": {
        "id": "DaRFwGlE8w_I"
      },
      "source": [
        "### 3. "
      ]
    },
    {
      "cell_type": "code",
      "metadata": {
        "id": "5ejlwlgW80vX"
      },
      "source": [
        "distortions = {} #_x, distortions_y = [], []\n",
        "distortions['x'], distortions['y'] = [], []\n",
        "\n",
        "k_start, k_end = 2, 7\n",
        "for k in range(k_start, k_end+1):\n",
        "  _, _, _, distortion = k_means(p1_dataset, k)\n",
        "  distortions['x'].append(k)\n",
        "  distortions['y'].append(distortion)\n",
        "\n",
        "# matplotlib.pyplot.plot(distortions_x, distortions_y, 'x', 'y')\n"
      ],
      "execution_count": 25,
      "outputs": []
    },
    {
      "cell_type": "code",
      "metadata": {
        "colab": {
          "base_uri": "https://localhost:8080/",
          "height": 312
        },
        "id": "ko64YzPZGdjt",
        "outputId": "c10c002b-0a82-465e-aac6-6de333bd4c83"
      },
      "source": [
        "import matplotlib.pyplot as plt\n",
        "\n",
        "plt.plot(distortions['x'], distortions['y'], label = \"distortion\")\n",
        "\n",
        "plt.xlabel('values of κ')\n",
        "plt.ylabel('Cost Distortion')\n",
        "plt.title('Plot Distortion achieved by κ-means ')\n",
        "plt.legend()"
      ],
      "execution_count": 26,
      "outputs": [
        {
          "output_type": "execute_result",
          "data": {
            "text/plain": [
              "<matplotlib.legend.Legend at 0x7f1815253e90>"
            ]
          },
          "metadata": {},
          "execution_count": 26
        },
        {
          "output_type": "display_data",
          "data": {
            "image/png": "[encoded data removed]",
            "text/plain": [
              "<Figure size 432x288 with 1 Axes>"
            ]
          },
          "metadata": {
            "needs_background": "light"
          }
        }
      ]
    },
    {
      "cell_type": "markdown",
      "metadata": {
        "id": "wYwKP8N3JwXU"
      },
      "source": [
        "### 4. \n"
      ]
    },
    {
      "cell_type": "markdown",
      "metadata": {
        "id": "cijJDlWtJ26J"
      },
      "source": [
        "The best κ-value can be chosen based on a distortion plot for varying κ. Using a distortion plot, you can judge the line/curve to find the point of **inflection** or the point where the distortion stops decreasing as rapidly and select this point to judge the best κ value.\n",
        "\n",
        "From the appearance of the plot created above in part 3, it is a bit hard to judge when this point is (κ=3 or κ=4 seem like good selections), but it appears to be at around **κ = 4**."
      ]
    },
    {
      "cell_type": "markdown",
      "metadata": {
        "id": "4L8kz3bdL3kq"
      },
      "source": [
        "# Problem 2 - Lack of optimality of κ-means"
      ]
    },
    {
      "cell_type": "markdown",
      "metadata": {
        "id": "rqsegTtJSfqe"
      },
      "source": [
        "### Assumption: Any κ-means will converge to a globally optimal solution.\n",
        "\n",
        "Below I will look at κ-means over a dataset (`[1,2,3,4]`) with 2 different starting centroid selections."
      ]
    },
    {
      "cell_type": "markdown",
      "metadata": {
        "id": "6ade11NxOFYp"
      },
      "source": [
        "### **(1)** Picking centroids μ1, μ2 = 2, 4\n",
        "**Initial Conditions:**\n",
        "```\n",
        "[x1,x2,x3,x4] = [1,2,3,4]\n",
        "κ = 2 #k\n",
        "μ1, μ2 = 2, 4\n",
        "```\n",
        "\n",
        "**Iteration 1:**\n",
        "```\n",
        "Cluster 1 (points grouped with μ1): [1,2,3] # \"you may assume that if a pointx(i)is equally distant to multiple centroids, the point will be assigned to the centroid whose index is smallest\"\n",
        "Cluster 2 (points grouped with μ2): [4]\n",
        "\n",
        "μ1 -> average([1,2,3]) = 2\n",
        "μ2 -> average([4]) = 4\n",
        "```\n",
        "\n",
        "**Final Clusters (iterations completed because the centroids didn't change in value):**\n",
        "```\n",
        "Cluster 1 (points grouped with μ1): [1,2,3]\n",
        "Cluster 2 (points grouped with μ2): [4]\n",
        "```\n",
        "\n",
        "### **(2)** Picking centroids μ1, μ2 = 1.5, 3.5\n",
        "\n",
        "**Initial Conditions:**\n",
        "```\n",
        "[x1,x2,x3,x4] = [1,2,3,4]\n",
        "κ = 2 #k\n",
        "μ1, μ2 = 1.5, 3.5\n",
        "```\n",
        "\n",
        "**Iteration 1:**\n",
        "```\n",
        "Cluster 1 (points grouped with μ1): [1,2] \n",
        "Cluster 2 (points grouped with μ2): [3,4]\n",
        "\n",
        "μ1 -> average([1,2]) = 1.5\n",
        "μ2 -> average([3,4]) = 3.5\n",
        "```\n",
        "\n",
        "**Final Clusters (iterations completed because the centroids didn't change in value):**\n",
        "```\n",
        "Cluster 1 (points grouped with μ1): [1,2]\n",
        "Cluster 2 (points grouped with μ2): [3,4]\n",
        "```"
      ]
    },
    {
      "cell_type": "markdown",
      "metadata": {
        "id": "CYKf4PrYRX00"
      },
      "source": [
        "The analysis of κ-means above for 2 different initial centroid selections ((1) and (2) above) yields 2 different clustering solutions, one being more **balanced** and optimal than the other. By contradiction of the above assumption, κ-means does not necessarily converge to a globally optimal solution, and therefore might converge to a solution that is not globally optimal."
      ]
    },
    {
      "cell_type": "markdown",
      "metadata": {
        "id": "ID4Htm59TvQW"
      },
      "source": [
        "# Problem 3 - Problem 3 - SVD"
      ]
    },
    {
      "cell_type": "markdown",
      "metadata": {
        "id": "G3mQ-MWeA7JQ"
      },
      "source": [
        "### 1."
      ]
    },
    {
      "cell_type": "markdown",
      "metadata": {
        "id": "gFsHmsfVBA1Q"
      },
      "source": [
        "```\n",
        "A = [1 2 1]\n",
        "    [2 3 1]\n",
        "```\n",
        "The dimensions of matrix `A` are 2x3 so the rank of matrix A must be <= 2. To determine the rank of a matrix, convert it to echelon form, and find the number of non-zero rows (this will be the rank).\n",
        "```\n",
        "A = [1 2 1]\n",
        "    [2 3 1]\n",
        "# the first leading entry of the first row is '1' so multiply the first row by 2, and subtract this from the second row so that the leading entry of the second row will not be in the same column as that from the first row.\n",
        "A = [1 2 1] ------------->    A = [1  2  1]\n",
        "    [2 3 1] - 2*[1 2 1] ->        [0 -1 -1]\n",
        "\n",
        "# The above matrix is in echelon form; leading entries in each row are 1/-1, and the column of the first leading entry in the second row is in a differnt column than the first leading entry in the first row (there are no rows with zero elements).\n",
        "\n",
        "```\n",
        "The echelon form of matrix A was determined above, and there are 2 non=zero rows, therefore `rank([A]) == 2`"
      ]
    },
    {
      "cell_type": "markdown",
      "metadata": {
        "id": "M_MGMhErEYEE"
      },
      "source": [
        "### 2."
      ]
    },
    {
      "cell_type": "markdown",
      "metadata": {
        "id": "OwpeNptGEZ8V"
      },
      "source": [
        "Given matrix A, its singular values (`σ`) are equal to the squareroot of the eigenvalues of A<sup>T</sup>A (`σ = √(λ)`). The eigenvalue(s) of a matrix are values such that the matrix multiplied by a vector is equivalent to the eiganvalue(s) multiplied by the same vector (eigenvector):\n",
        "```\n",
        "Ax = λx   # x is a vector\n",
        "Ax - λx = 0\n",
        "(A - λI)*x = 0   # I is the identity matrix\n",
        "|A - λI| = 0   # \"|...|\" is the determinant\n",
        "```\n",
        "Finding A<sup>T</sup>A:\n",
        "```\n",
        "[1 2] * [1 2 1]    =  [(1*1 + 2*2)  (1*2 + 2*3)  (1*1 + 2*1)]     [5   8  3]\n",
        "[2 3]   [2 3 1]       [(2*1 + 3*2)  (2*2 + 3*3)  (2*1 + 3*1)]  =  [8  13  5]\n",
        "[1 1]                 [(1*1 + 1*2)  (1*2 + 1*3)  (1*1 + 1*1)]     [3   5  2]\n",
        "```\n",
        "Finding the eigenvalues of A<sup>T</sup>A (determinant of (A<sup>T</sup>A - λI)):\n",
        "```\n",
        "[3   8  3]   [λ 0 0]     [3-λ     8      3] \n",
        "[8  13  5] - [0 λ 0]  =  [9    13-λ      5]\n",
        "[3   5  2]   [0 0 λ]     [3       5    2-λ]\n",
        "\n",
        "det([3-λ     8      3])     \n",
        "   ([9    13-λ      5])  =  (3-λ)((13-λ)(2-λ) - (5)(5)) - 8(9(2-λ) - (5)(3)) + 3((9)(5) - (13 - λ)(3))  =  0\n",
        "   ([3       5    2-λ])\n",
        "\n",
        "(-3 + 20λ + - λ^2)λ = 0  # one eigenvalue is λ = 0, solve for remaining λ using quadratic formula\n",
        "\n",
        "λ = (20 ± √((-20)^2 - 4(1)(3)) ) / 2(1) = 10 ± (2√97)/2 = 10 ± √97\n",
        "```\n",
        "The eigenvalues of A<sup>T</sup>A are 0, 10 ± √97 <p>λ<sub>1</sub> = 10 + √97</p><p>λ<sub>2</sub> = 10 - √97</p><p>λ<sub>3</sub> = 0</p>\n",
        "\n",
        "***\n",
        "\n",
        "<b>Singular values (σ):\n",
        "<p>σ<sub>1</sub> = √(λ<sub>1</sub>) = √(10 + √97)</p>\n",
        "<p>σ<sub>2</sub> = √(λ<sub>2</sub>) = √(10 - √97)</p>\n",
        "</b>"
      ]
    },
    {
      "cell_type": "markdown",
      "metadata": {
        "id": "JvO9nPR0TEF2"
      },
      "source": [
        "### 3."
      ]
    },
    {
      "cell_type": "markdown",
      "metadata": {
        "id": "MNR86JCvTQ0a"
      },
      "source": [
        "Below is a description of SVD, specifically how to obtain the U and V matrices in a SVD of a matrix, A. This defines how I will solve for U and V.\n",
        "```\n",
        "A = U∑V^T\n",
        "\n",
        "A ~ m x n\n",
        "U ~ m x m\n",
        "V ~ n x n\n",
        "\n",
        "V = [ |    |      ]\n",
        "    [v_1  v_2  ...]\n",
        "    [ |    |      ]\n",
        "\n",
        "# v_i is a vector, where v_i = (w_i)/(||w_i||) where w_i is eigenvector i, and \"||...||\" is magnitude\n",
        "\n",
        "U = [ |    |      ]\n",
        "    [u_1  u_2  ...]\n",
        "    [ |    |      ]\n",
        "\n",
        "# u_i is a vector, where u_i = (1/σ_i)*A*v_i \n",
        "```\n",
        "\n",
        "Solving for the eigenvectors [A<sup>T</sup>A - λ<sub>i</sub>I]w<sub>i</sub> = 0:\n",
        "```\n",
        "[3-λ     8       3]   [w_11]   [0]\n",
        "[9    13-λ       5] * [w_12] = [0]\n",
        "[3        5    2-λ]   [w_13]   [0]\n",
        "\n",
        "(3-λ)w_11 + (8)w_12 + (3)w_13  = 0\n",
        "(9)w_11 + (13-λ)w_12 + (5)w_13 = 0\n",
        "(3)w_11 + (5)w_12 + (2-λ)w_13  = 0\n",
        "\n",
        "# Solving the above system of linear equations (using substitution, and plugging in λ_i for w_in) yields the following eigenvectors with corresponding eigenvalues:\n",
        "\n",
        "w_1 = [  (3+√97)/8   ]     (λ_1 = √(10 + √97))\n",
        "      [  (11+√97)/8  ]\n",
        "      [       1      ]\n",
        "\n",
        "w_2 = [ -(-3+√97)/8  ]     (λ_2 = √(10 - √97))\n",
        "      [ -(-11+√97)/8 ]\n",
        "      [       1      ]\n",
        "\n",
        "w_3 = [       1      ]     (λ_3 = 0)\n",
        "      [      -1      ]\n",
        "      [       1      ]\n",
        "\n",
        "```\n",
        "Finding the magnitude of the eigenvectors:\n",
        "```\n",
        "||w_1|| = √( ((3+√97)/8)^2 + ((11+√97)/8)^2 + 1^2 ) ~= 3.22\n",
        "||w_2|| = √( (-(-3+√97)/8)^2 + (-(-11+√97)/8)^2 + 1^2 ) ~= 1.32\n",
        "||w_3|| = √( 1^2 + (-1)^2 + 1^2 ) = √3\n",
        "```\n",
        "As stated above, V = [ w_i / ||w_i|| ]:\n",
        "```\n",
        "     [0.499  -0.647   0.577]\n",
        "V ~= [0.809   0.109  -0.577]\n",
        "     [0.311   0.755   0.577]\n",
        "```\n",
        "Now that we have V, we can solve for the values of U:\n",
        "```\n",
        "# u_i = (1/σ_i)*A*v_i\n",
        "\n",
        "u_1 = 1/(√(10 + √97)) * [1 2 1] * [0.499]\n",
        "                        [2 3 1]   [0.809]\n",
        "                                  [0.311]\n",
        "u_1 ~= [0.545]\n",
        "       [0.839]\n",
        "\n",
        "\n",
        "u_1 = 1/(√(10 - √97)) * [1 2 1] * [-0.647 ]\n",
        "                        [2 3 1]   [ 0.109 ]\n",
        "                                  [ 0.755 ]\n",
        "u_2 ~= [ 0.839]\n",
        "       [-0.545]\n",
        "\n",
        "\n",
        "U ~=  [0.545  0.839]\n",
        "      [0.839 -0.545]      \n",
        "```\n",
        "***\n",
        "<b>U ~=  \n",
        "<p>[ 0.545 0.839 ]</p>\n",
        "<p>[ 0.839 -0.545 ]</p> \n",
        "\n",
        "V ~=\n",
        "<p>[ 0.499  -0.647   0.577 ]</p>\n",
        "<p>[ 0.809   0.109  -0.577 ]</p>\n",
        "<p>[ 0.311   0.755   0.577 ]</p>\n",
        "</b>"
      ]
    }
  ]
}